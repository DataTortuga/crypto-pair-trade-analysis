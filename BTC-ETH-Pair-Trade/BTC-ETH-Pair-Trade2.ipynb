{
 "cells": [
  {
   "cell_type": "code",
   "execution_count": 122,
   "metadata": {},
   "outputs": [],
   "source": [
    "# Import data science essentials\n",
    "import pandas as pd\n",
    "import numpy as np\n",
    "from datetime import datetime,timedelta\n",
    "\n",
    "# Import plotting essentials\n",
    "import matplotlib.pyplot as plt\n",
    "import seaborn as sns\n",
    "from matplotlib import animation, rc\n",
    "from IPython.display import HTML\n",
    "\n",
    "%matplotlib inline"
   ]
  },
  {
   "cell_type": "code",
   "execution_count": 2,
   "metadata": {},
   "outputs": [],
   "source": [
    "btc_file = 'coin_Bitcoin.csv'\n",
    "eth_file = 'coin_Ethereum.csv'"
   ]
  },
  {
   "cell_type": "code",
   "execution_count": 3,
   "metadata": {},
   "outputs": [],
   "source": [
    "btc_df = pd.read_csv(btc_file,index_col='Date',parse_dates=True)\n",
    "eth_df = pd.read_csv(eth_file,index_col='Date',parse_dates=True)"
   ]
  },
  {
   "cell_type": "code",
   "execution_count": 4,
   "metadata": {},
   "outputs": [
    {
     "data": {
      "text/html": [
       "<div>\n",
       "<style scoped>\n",
       "    .dataframe tbody tr th:only-of-type {\n",
       "        vertical-align: middle;\n",
       "    }\n",
       "\n",
       "    .dataframe tbody tr th {\n",
       "        vertical-align: top;\n",
       "    }\n",
       "\n",
       "    .dataframe thead th {\n",
       "        text-align: right;\n",
       "    }\n",
       "</style>\n",
       "<table border=\"1\" class=\"dataframe\">\n",
       "  <thead>\n",
       "    <tr style=\"text-align: right;\">\n",
       "      <th></th>\n",
       "      <th>SNo</th>\n",
       "      <th>Name</th>\n",
       "      <th>Symbol</th>\n",
       "      <th>High</th>\n",
       "      <th>Low</th>\n",
       "      <th>Open</th>\n",
       "      <th>Close</th>\n",
       "      <th>Volume</th>\n",
       "      <th>Marketcap</th>\n",
       "    </tr>\n",
       "    <tr>\n",
       "      <th>Date</th>\n",
       "      <th></th>\n",
       "      <th></th>\n",
       "      <th></th>\n",
       "      <th></th>\n",
       "      <th></th>\n",
       "      <th></th>\n",
       "      <th></th>\n",
       "      <th></th>\n",
       "      <th></th>\n",
       "    </tr>\n",
       "  </thead>\n",
       "  <tbody>\n",
       "    <tr>\n",
       "      <th>2013-04-29 23:59:59</th>\n",
       "      <td>1</td>\n",
       "      <td>Bitcoin</td>\n",
       "      <td>BTC</td>\n",
       "      <td>147.488007</td>\n",
       "      <td>134.000000</td>\n",
       "      <td>134.444000</td>\n",
       "      <td>144.539993</td>\n",
       "      <td>0.0</td>\n",
       "      <td>1.603769e+09</td>\n",
       "    </tr>\n",
       "    <tr>\n",
       "      <th>2013-04-30 23:59:59</th>\n",
       "      <td>2</td>\n",
       "      <td>Bitcoin</td>\n",
       "      <td>BTC</td>\n",
       "      <td>146.929993</td>\n",
       "      <td>134.050003</td>\n",
       "      <td>144.000000</td>\n",
       "      <td>139.000000</td>\n",
       "      <td>0.0</td>\n",
       "      <td>1.542813e+09</td>\n",
       "    </tr>\n",
       "    <tr>\n",
       "      <th>2013-05-01 23:59:59</th>\n",
       "      <td>3</td>\n",
       "      <td>Bitcoin</td>\n",
       "      <td>BTC</td>\n",
       "      <td>139.889999</td>\n",
       "      <td>107.720001</td>\n",
       "      <td>139.000000</td>\n",
       "      <td>116.989998</td>\n",
       "      <td>0.0</td>\n",
       "      <td>1.298955e+09</td>\n",
       "    </tr>\n",
       "    <tr>\n",
       "      <th>2013-05-02 23:59:59</th>\n",
       "      <td>4</td>\n",
       "      <td>Bitcoin</td>\n",
       "      <td>BTC</td>\n",
       "      <td>125.599998</td>\n",
       "      <td>92.281898</td>\n",
       "      <td>116.379997</td>\n",
       "      <td>105.209999</td>\n",
       "      <td>0.0</td>\n",
       "      <td>1.168517e+09</td>\n",
       "    </tr>\n",
       "    <tr>\n",
       "      <th>2013-05-03 23:59:59</th>\n",
       "      <td>5</td>\n",
       "      <td>Bitcoin</td>\n",
       "      <td>BTC</td>\n",
       "      <td>108.127998</td>\n",
       "      <td>79.099998</td>\n",
       "      <td>106.250000</td>\n",
       "      <td>97.750000</td>\n",
       "      <td>0.0</td>\n",
       "      <td>1.085995e+09</td>\n",
       "    </tr>\n",
       "  </tbody>\n",
       "</table>\n",
       "</div>"
      ],
      "text/plain": [
       "                     SNo     Name Symbol        High         Low        Open  \\\n",
       "Date                                                                           \n",
       "2013-04-29 23:59:59    1  Bitcoin    BTC  147.488007  134.000000  134.444000   \n",
       "2013-04-30 23:59:59    2  Bitcoin    BTC  146.929993  134.050003  144.000000   \n",
       "2013-05-01 23:59:59    3  Bitcoin    BTC  139.889999  107.720001  139.000000   \n",
       "2013-05-02 23:59:59    4  Bitcoin    BTC  125.599998   92.281898  116.379997   \n",
       "2013-05-03 23:59:59    5  Bitcoin    BTC  108.127998   79.099998  106.250000   \n",
       "\n",
       "                          Close  Volume     Marketcap  \n",
       "Date                                                   \n",
       "2013-04-29 23:59:59  144.539993     0.0  1.603769e+09  \n",
       "2013-04-30 23:59:59  139.000000     0.0  1.542813e+09  \n",
       "2013-05-01 23:59:59  116.989998     0.0  1.298955e+09  \n",
       "2013-05-02 23:59:59  105.209999     0.0  1.168517e+09  \n",
       "2013-05-03 23:59:59   97.750000     0.0  1.085995e+09  "
      ]
     },
     "execution_count": 4,
     "metadata": {},
     "output_type": "execute_result"
    }
   ],
   "source": [
    "btc_df.head()"
   ]
  },
  {
   "cell_type": "code",
   "execution_count": 5,
   "metadata": {},
   "outputs": [
    {
     "data": {
      "text/plain": [
       "(2991, 9)"
      ]
     },
     "execution_count": 5,
     "metadata": {},
     "output_type": "execute_result"
    }
   ],
   "source": [
    "btc_df.shape"
   ]
  },
  {
   "cell_type": "code",
   "execution_count": 6,
   "metadata": {},
   "outputs": [
    {
     "data": {
      "image/png": "[encoded data removed]",
      "text/plain": [
       "<Figure size 432x288 with 1 Axes>"
      ]
     },
     "metadata": {
      "needs_background": "light"
     },
     "output_type": "display_data"
    }
   ],
   "source": [
    "plt.plot(btc_df.index,btc_df['Close'])\n",
    "plt.show()"
   ]
  },
  {
   "cell_type": "code",
   "execution_count": 7,
   "metadata": {},
   "outputs": [
    {
     "data": {
      "image/png": "[encoded data removed]",
      "text/plain": [
       "<Figure size 432x288 with 1 Axes>"
      ]
     },
     "metadata": {
      "needs_background": "light"
     },
     "output_type": "display_data"
    }
   ],
   "source": [
    "plt.plot(eth_df.index,eth_df['Close'])\n",
    "plt.show()"
   ]
  },
  {
   "cell_type": "code",
   "execution_count": 8,
   "metadata": {},
   "outputs": [
    {
     "data": {
      "text/html": [
       "<div>\n",
       "<style scoped>\n",
       "    .dataframe tbody tr th:only-of-type {\n",
       "        vertical-align: middle;\n",
       "    }\n",
       "\n",
       "    .dataframe tbody tr th {\n",
       "        vertical-align: top;\n",
       "    }\n",
       "\n",
       "    .dataframe thead th {\n",
       "        text-align: right;\n",
       "    }\n",
       "</style>\n",
       "<table border=\"1\" class=\"dataframe\">\n",
       "  <thead>\n",
       "    <tr style=\"text-align: right;\">\n",
       "      <th></th>\n",
       "      <th>SNo</th>\n",
       "      <th>High</th>\n",
       "      <th>Low</th>\n",
       "      <th>Open</th>\n",
       "      <th>Close</th>\n",
       "      <th>Volume</th>\n",
       "      <th>Marketcap</th>\n",
       "    </tr>\n",
       "    <tr>\n",
       "      <th>Date</th>\n",
       "      <th></th>\n",
       "      <th></th>\n",
       "      <th></th>\n",
       "      <th></th>\n",
       "      <th></th>\n",
       "      <th></th>\n",
       "      <th></th>\n",
       "    </tr>\n",
       "  </thead>\n",
       "  <tbody>\n",
       "    <tr>\n",
       "      <th>2013-04-29 23:59:59</th>\n",
       "      <td>NaN</td>\n",
       "      <td>NaN</td>\n",
       "      <td>NaN</td>\n",
       "      <td>NaN</td>\n",
       "      <td>NaN</td>\n",
       "      <td>NaN</td>\n",
       "      <td>NaN</td>\n",
       "    </tr>\n",
       "    <tr>\n",
       "      <th>2013-04-30 23:59:59</th>\n",
       "      <td>NaN</td>\n",
       "      <td>NaN</td>\n",
       "      <td>NaN</td>\n",
       "      <td>NaN</td>\n",
       "      <td>NaN</td>\n",
       "      <td>NaN</td>\n",
       "      <td>NaN</td>\n",
       "    </tr>\n",
       "    <tr>\n",
       "      <th>2013-05-01 23:59:59</th>\n",
       "      <td>NaN</td>\n",
       "      <td>NaN</td>\n",
       "      <td>NaN</td>\n",
       "      <td>NaN</td>\n",
       "      <td>NaN</td>\n",
       "      <td>NaN</td>\n",
       "      <td>NaN</td>\n",
       "    </tr>\n",
       "    <tr>\n",
       "      <th>2013-05-02 23:59:59</th>\n",
       "      <td>NaN</td>\n",
       "      <td>NaN</td>\n",
       "      <td>NaN</td>\n",
       "      <td>NaN</td>\n",
       "      <td>NaN</td>\n",
       "      <td>NaN</td>\n",
       "      <td>NaN</td>\n",
       "    </tr>\n",
       "    <tr>\n",
       "      <th>2013-05-03 23:59:59</th>\n",
       "      <td>NaN</td>\n",
       "      <td>NaN</td>\n",
       "      <td>NaN</td>\n",
       "      <td>NaN</td>\n",
       "      <td>NaN</td>\n",
       "      <td>NaN</td>\n",
       "      <td>NaN</td>\n",
       "    </tr>\n",
       "    <tr>\n",
       "      <th>...</th>\n",
       "      <td>...</td>\n",
       "      <td>...</td>\n",
       "      <td>...</td>\n",
       "      <td>...</td>\n",
       "      <td>...</td>\n",
       "      <td>...</td>\n",
       "      <td>...</td>\n",
       "    </tr>\n",
       "    <tr>\n",
       "      <th>2021-07-02 23:59:59</th>\n",
       "      <td>2972.5</td>\n",
       "      <td>36856.463381</td>\n",
       "      <td>34172.505273</td>\n",
       "      <td>35740.276234</td>\n",
       "      <td>35618.790261</td>\n",
       "      <td>3.995017e+10</td>\n",
       "      <td>6.673860e+11</td>\n",
       "    </tr>\n",
       "    <tr>\n",
       "      <th>2021-07-03 23:59:59</th>\n",
       "      <td>2973.5</td>\n",
       "      <td>36704.140338</td>\n",
       "      <td>34044.462700</td>\n",
       "      <td>35615.443281</td>\n",
       "      <td>35467.449674</td>\n",
       "      <td>3.958094e+10</td>\n",
       "      <td>6.645766e+11</td>\n",
       "    </tr>\n",
       "    <tr>\n",
       "      <th>2021-07-04 23:59:59</th>\n",
       "      <td>2974.5</td>\n",
       "      <td>36593.976368</td>\n",
       "      <td>34000.421206</td>\n",
       "      <td>35462.879235</td>\n",
       "      <td>35413.895489</td>\n",
       "      <td>3.901738e+10</td>\n",
       "      <td>6.635985e+11</td>\n",
       "    </tr>\n",
       "    <tr>\n",
       "      <th>2021-07-05 23:59:59</th>\n",
       "      <td>2975.5</td>\n",
       "      <td>36506.197377</td>\n",
       "      <td>33944.196165</td>\n",
       "      <td>35409.685517</td>\n",
       "      <td>35353.696946</td>\n",
       "      <td>3.870945e+10</td>\n",
       "      <td>6.624949e+11</td>\n",
       "    </tr>\n",
       "    <tr>\n",
       "      <th>2021-07-06 23:59:59</th>\n",
       "      <td>2976.5</td>\n",
       "      <td>36459.601224</td>\n",
       "      <td>33887.374035</td>\n",
       "      <td>35349.182214</td>\n",
       "      <td>35299.457471</td>\n",
       "      <td>3.862905e+10</td>\n",
       "      <td>6.615032e+11</td>\n",
       "    </tr>\n",
       "  </tbody>\n",
       "</table>\n",
       "<p>2991 rows × 7 columns</p>\n",
       "</div>"
      ],
      "text/plain": [
       "                        SNo          High           Low          Open  \\\n",
       "Date                                                                    \n",
       "2013-04-29 23:59:59     NaN           NaN           NaN           NaN   \n",
       "2013-04-30 23:59:59     NaN           NaN           NaN           NaN   \n",
       "2013-05-01 23:59:59     NaN           NaN           NaN           NaN   \n",
       "2013-05-02 23:59:59     NaN           NaN           NaN           NaN   \n",
       "2013-05-03 23:59:59     NaN           NaN           NaN           NaN   \n",
       "...                     ...           ...           ...           ...   \n",
       "2021-07-02 23:59:59  2972.5  36856.463381  34172.505273  35740.276234   \n",
       "2021-07-03 23:59:59  2973.5  36704.140338  34044.462700  35615.443281   \n",
       "2021-07-04 23:59:59  2974.5  36593.976368  34000.421206  35462.879235   \n",
       "2021-07-05 23:59:59  2975.5  36506.197377  33944.196165  35409.685517   \n",
       "2021-07-06 23:59:59  2976.5  36459.601224  33887.374035  35349.182214   \n",
       "\n",
       "                            Close        Volume     Marketcap  \n",
       "Date                                                           \n",
       "2013-04-29 23:59:59           NaN           NaN           NaN  \n",
       "2013-04-30 23:59:59           NaN           NaN           NaN  \n",
       "2013-05-01 23:59:59           NaN           NaN           NaN  \n",
       "2013-05-02 23:59:59           NaN           NaN           NaN  \n",
       "2013-05-03 23:59:59           NaN           NaN           NaN  \n",
       "...                           ...           ...           ...  \n",
       "2021-07-02 23:59:59  35618.790261  3.995017e+10  6.673860e+11  \n",
       "2021-07-03 23:59:59  35467.449674  3.958094e+10  6.645766e+11  \n",
       "2021-07-04 23:59:59  35413.895489  3.901738e+10  6.635985e+11  \n",
       "2021-07-05 23:59:59  35353.696946  3.870945e+10  6.624949e+11  \n",
       "2021-07-06 23:59:59  35299.457471  3.862905e+10  6.615032e+11  \n",
       "\n",
       "[2991 rows x 7 columns]"
      ]
     },
     "execution_count": 8,
     "metadata": {},
     "output_type": "execute_result"
    }
   ],
   "source": [
    "rolling_btc_df = btc_df.rolling(window=30).mean()\n",
    "rolling_btc_df"
   ]
  },
  {
   "cell_type": "code",
   "execution_count": 9,
   "metadata": {},
   "outputs": [
    {
     "data": {
      "image/png": "[encoded data removed]",
      "text/plain": [
       "<Figure size 432x288 with 1 Axes>"
      ]
     },
     "metadata": {
      "needs_background": "light"
     },
     "output_type": "display_data"
    }
   ],
   "source": [
    "plt.plot(rolling_btc_df.index,rolling_btc_df['Close'],label='Rolling 30 day Window')\n",
    "plt.plot(btc_df.index,btc_df['Close'],label='BTC Closing Price')\n",
    "plt.legend()\n",
    "plt.show()"
   ]
  },
  {
   "cell_type": "code",
   "execution_count": 190,
   "metadata": {},
   "outputs": [],
   "source": [
    "last_date = btc_df.index.max()\n",
    "year = last_date - timedelta(days=359)\n",
    "\n",
    "end_date = f\"{last_date.year}-{last_date.month}-{last_date.day}\"\n",
    "start_date = f\"{year.year}-{year.month}-{year.day}\""
   ]
  },
  {
   "cell_type": "code",
   "execution_count": 191,
   "metadata": {},
   "outputs": [],
   "source": [
    "a = btc_df[start_date:end_date]"
   ]
  },
  {
   "cell_type": "code",
   "execution_count": 192,
   "metadata": {},
   "outputs": [
    {
     "data": {
      "text/html": [
       "<div>\n",
       "<style scoped>\n",
       "    .dataframe tbody tr th:only-of-type {\n",
       "        vertical-align: middle;\n",
       "    }\n",
       "\n",
       "    .dataframe tbody tr th {\n",
       "        vertical-align: top;\n",
       "    }\n",
       "\n",
       "    .dataframe thead th {\n",
       "        text-align: right;\n",
       "    }\n",
       "</style>\n",
       "<table border=\"1\" class=\"dataframe\">\n",
       "  <thead>\n",
       "    <tr style=\"text-align: right;\">\n",
       "      <th></th>\n",
       "      <th>SNo</th>\n",
       "      <th>Name</th>\n",
       "      <th>Symbol</th>\n",
       "      <th>High</th>\n",
       "      <th>Low</th>\n",
       "      <th>Open</th>\n",
       "      <th>Close</th>\n",
       "      <th>Volume</th>\n",
       "      <th>Marketcap</th>\n",
       "    </tr>\n",
       "    <tr>\n",
       "      <th>Date</th>\n",
       "      <th></th>\n",
       "      <th></th>\n",
       "      <th></th>\n",
       "      <th></th>\n",
       "      <th></th>\n",
       "      <th></th>\n",
       "      <th></th>\n",
       "      <th></th>\n",
       "      <th></th>\n",
       "    </tr>\n",
       "  </thead>\n",
       "  <tbody>\n",
       "    <tr>\n",
       "      <th>2020-07-12 23:59:59</th>\n",
       "      <td>2632</td>\n",
       "      <td>Bitcoin</td>\n",
       "      <td>BTC</td>\n",
       "      <td>9319.419417</td>\n",
       "      <td>9197.450320</td>\n",
       "      <td>9241.055044</td>\n",
       "      <td>9276.499850</td>\n",
       "      <td>1.445236e+10</td>\n",
       "      <td>1.709774e+11</td>\n",
       "    </tr>\n",
       "    <tr>\n",
       "      <th>2020-07-13 23:59:59</th>\n",
       "      <td>2633</td>\n",
       "      <td>Bitcoin</td>\n",
       "      <td>BTC</td>\n",
       "      <td>9306.404930</td>\n",
       "      <td>9224.292841</td>\n",
       "      <td>9277.204660</td>\n",
       "      <td>9243.613855</td>\n",
       "      <td>1.751982e+10</td>\n",
       "      <td>1.703797e+11</td>\n",
       "    </tr>\n",
       "    <tr>\n",
       "      <th>2020-07-14 23:59:59</th>\n",
       "      <td>2634</td>\n",
       "      <td>Bitcoin</td>\n",
       "      <td>BTC</td>\n",
       "      <td>9283.842142</td>\n",
       "      <td>9171.661118</td>\n",
       "      <td>9238.703228</td>\n",
       "      <td>9243.213416</td>\n",
       "      <td>1.808504e+10</td>\n",
       "      <td>1.703807e+11</td>\n",
       "    </tr>\n",
       "    <tr>\n",
       "      <th>2020-07-15 23:59:59</th>\n",
       "      <td>2635</td>\n",
       "      <td>Bitcoin</td>\n",
       "      <td>BTC</td>\n",
       "      <td>9275.325125</td>\n",
       "      <td>9171.933554</td>\n",
       "      <td>9241.897000</td>\n",
       "      <td>9192.837368</td>\n",
       "      <td>1.584473e+10</td>\n",
       "      <td>1.694601e+11</td>\n",
       "    </tr>\n",
       "    <tr>\n",
       "      <th>2020-07-16 23:59:59</th>\n",
       "      <td>2636</td>\n",
       "      <td>Bitcoin</td>\n",
       "      <td>BTC</td>\n",
       "      <td>9214.312698</td>\n",
       "      <td>9088.947402</td>\n",
       "      <td>9191.980234</td>\n",
       "      <td>9132.227863</td>\n",
       "      <td>1.571397e+10</td>\n",
       "      <td>1.683505e+11</td>\n",
       "    </tr>\n",
       "    <tr>\n",
       "      <th>...</th>\n",
       "      <td>...</td>\n",
       "      <td>...</td>\n",
       "      <td>...</td>\n",
       "      <td>...</td>\n",
       "      <td>...</td>\n",
       "      <td>...</td>\n",
       "      <td>...</td>\n",
       "      <td>...</td>\n",
       "      <td>...</td>\n",
       "    </tr>\n",
       "    <tr>\n",
       "      <th>2021-07-02 23:59:59</th>\n",
       "      <td>2987</td>\n",
       "      <td>Bitcoin</td>\n",
       "      <td>BTC</td>\n",
       "      <td>33939.588699</td>\n",
       "      <td>32770.680780</td>\n",
       "      <td>33549.600177</td>\n",
       "      <td>33897.048590</td>\n",
       "      <td>3.872897e+10</td>\n",
       "      <td>6.354508e+11</td>\n",
       "    </tr>\n",
       "    <tr>\n",
       "      <th>2021-07-03 23:59:59</th>\n",
       "      <td>2988</td>\n",
       "      <td>Bitcoin</td>\n",
       "      <td>BTC</td>\n",
       "      <td>34909.259899</td>\n",
       "      <td>33402.696536</td>\n",
       "      <td>33854.421362</td>\n",
       "      <td>34668.548402</td>\n",
       "      <td>2.438396e+10</td>\n",
       "      <td>6.499397e+11</td>\n",
       "    </tr>\n",
       "    <tr>\n",
       "      <th>2021-07-04 23:59:59</th>\n",
       "      <td>2989</td>\n",
       "      <td>Bitcoin</td>\n",
       "      <td>BTC</td>\n",
       "      <td>35937.567147</td>\n",
       "      <td>34396.477458</td>\n",
       "      <td>34665.564866</td>\n",
       "      <td>35287.779766</td>\n",
       "      <td>2.492431e+10</td>\n",
       "      <td>6.615748e+11</td>\n",
       "    </tr>\n",
       "    <tr>\n",
       "      <th>2021-07-05 23:59:59</th>\n",
       "      <td>2990</td>\n",
       "      <td>Bitcoin</td>\n",
       "      <td>BTC</td>\n",
       "      <td>35284.344430</td>\n",
       "      <td>33213.661034</td>\n",
       "      <td>35284.344430</td>\n",
       "      <td>33746.002456</td>\n",
       "      <td>2.672155e+10</td>\n",
       "      <td>6.326962e+11</td>\n",
       "    </tr>\n",
       "    <tr>\n",
       "      <th>2021-07-06 23:59:59</th>\n",
       "      <td>2991</td>\n",
       "      <td>Bitcoin</td>\n",
       "      <td>BTC</td>\n",
       "      <td>35038.536363</td>\n",
       "      <td>33599.916169</td>\n",
       "      <td>33723.509655</td>\n",
       "      <td>34235.193451</td>\n",
       "      <td>2.650126e+10</td>\n",
       "      <td>6.418992e+11</td>\n",
       "    </tr>\n",
       "  </tbody>\n",
       "</table>\n",
       "<p>360 rows × 9 columns</p>\n",
       "</div>"
      ],
      "text/plain": [
       "                      SNo     Name Symbol          High           Low  \\\n",
       "Date                                                                    \n",
       "2020-07-12 23:59:59  2632  Bitcoin    BTC   9319.419417   9197.450320   \n",
       "2020-07-13 23:59:59  2633  Bitcoin    BTC   9306.404930   9224.292841   \n",
       "2020-07-14 23:59:59  2634  Bitcoin    BTC   9283.842142   9171.661118   \n",
       "2020-07-15 23:59:59  2635  Bitcoin    BTC   9275.325125   9171.933554   \n",
       "2020-07-16 23:59:59  2636  Bitcoin    BTC   9214.312698   9088.947402   \n",
       "...                   ...      ...    ...           ...           ...   \n",
       "2021-07-02 23:59:59  2987  Bitcoin    BTC  33939.588699  32770.680780   \n",
       "2021-07-03 23:59:59  2988  Bitcoin    BTC  34909.259899  33402.696536   \n",
       "2021-07-04 23:59:59  2989  Bitcoin    BTC  35937.567147  34396.477458   \n",
       "2021-07-05 23:59:59  2990  Bitcoin    BTC  35284.344430  33213.661034   \n",
       "2021-07-06 23:59:59  2991  Bitcoin    BTC  35038.536363  33599.916169   \n",
       "\n",
       "                             Open         Close        Volume     Marketcap  \n",
       "Date                                                                         \n",
       "2020-07-12 23:59:59   9241.055044   9276.499850  1.445236e+10  1.709774e+11  \n",
       "2020-07-13 23:59:59   9277.204660   9243.613855  1.751982e+10  1.703797e+11  \n",
       "2020-07-14 23:59:59   9238.703228   9243.213416  1.808504e+10  1.703807e+11  \n",
       "2020-07-15 23:59:59   9241.897000   9192.837368  1.584473e+10  1.694601e+11  \n",
       "2020-07-16 23:59:59   9191.980234   9132.227863  1.571397e+10  1.683505e+11  \n",
       "...                           ...           ...           ...           ...  \n",
       "2021-07-02 23:59:59  33549.600177  33897.048590  3.872897e+10  6.354508e+11  \n",
       "2021-07-03 23:59:59  33854.421362  34668.548402  2.438396e+10  6.499397e+11  \n",
       "2021-07-04 23:59:59  34665.564866  35287.779766  2.492431e+10  6.615748e+11  \n",
       "2021-07-05 23:59:59  35284.344430  33746.002456  2.672155e+10  6.326962e+11  \n",
       "2021-07-06 23:59:59  33723.509655  34235.193451  2.650126e+10  6.418992e+11  \n",
       "\n",
       "[360 rows x 9 columns]"
      ]
     },
     "execution_count": 192,
     "metadata": {},
     "output_type": "execute_result"
    }
   ],
   "source": [
    "a"
   ]
  },
  {
   "cell_type": "code",
   "execution_count": 193,
   "metadata": {},
   "outputs": [
    {
     "data": {
      "text/plain": [
       "Timestamp('2021-07-07 23:59:59')"
      ]
     },
     "execution_count": 193,
     "metadata": {},
     "output_type": "execute_result"
    }
   ],
   "source": [
    "a.index.min()+timedelta(days=360)"
   ]
  },
  {
   "cell_type": "code",
   "execution_count": 194,
   "metadata": {},
   "outputs": [
    {
     "data": {
      "image/png": "[encoded data removed]",
      "text/plain": [
       "<Figure size 432x288 with 1 Axes>"
      ]
     },
     "metadata": {
      "needs_background": "light"
     },
     "output_type": "display_data"
    }
   ],
   "source": [
    "plt.plot(a.index,a['Close'].rolling(window=30).mean(),label='Rolling Mean 30 day Window')\n",
    "plt.plot(a.index,a['Close'],label='BTC Closing Price')\n",
    "plt.legend()\n",
    "plt.show()"
   ]
  },
  {
   "cell_type": "code",
   "execution_count": 301,
   "metadata": {},
   "outputs": [
    {
     "data": {
      "text/plain": [
       "<matplotlib.legend.Legend at 0x7f1c401cb310>"
      ]
     },
     "execution_count": 301,
     "metadata": {},
     "output_type": "execute_result"
    },
    {
     "data": {
      "image/png": "[encoded data removed]",
      "text/plain": [
       "<Figure size 1200x800 with 1 Axes>"
      ]
     },
     "metadata": {
      "needs_background": "light"
     },
     "output_type": "display_data"
    }
   ],
   "source": [
    "\n",
    "# First set up the figure, the axis, and the plot element we want to animate\n",
    "fig = plt.figure(dpi=200)\n",
    "\n",
    "moving_window = 100\n",
    "x_last = a.index.min()+timedelta(days=moving_window)\n",
    "x_first = a.index.min()\n",
    "\n",
    "ax = plt.axes(xlim=(x_first,x_last),ylim=(0,70000))\n",
    "#ax.legend('BTC')\n",
    "line, = ax.plot([], [], lw=1,label='BTC PRICE')\n",
    "# line.axes.legend(line.get_label())\n",
    "line.axes.tick_params(axis='x', labelrotation = 45)\n",
    "plt.legend()"
   ]
  },
  {
   "cell_type": "code",
   "execution_count": 302,
   "metadata": {},
   "outputs": [],
   "source": [
    "# initialization function: plot the background of each frame\n",
    "def init():\n",
    "    line.set_data([], [])\n",
    "    return line,"
   ]
  },
  {
   "cell_type": "code",
   "execution_count": 303,
   "metadata": {},
   "outputs": [],
   "source": [
    "moving_window = 100\n",
    "x_last = a.index.min()+timedelta(days=moving_window)\n",
    "x_first = a.index.min()\n",
    "dt = timedelta(days=1)\n",
    "\n",
    "def animate(i):\n",
    "    global x_last\n",
    "    global x_first\n",
    "    global dt\n",
    "    \n",
    "    x = a.index[:i]\n",
    "    y = a['Close'][:i]\n",
    "    line.set_data(x, y)\n",
    "    \n",
    "    if a.index[i] >= x_last-dt:\n",
    "        x_last += dt \n",
    "        x_first += dt\n",
    "        line.axes.set_xlim(x_first,x_last)\n",
    "        \n",
    "    return line,"
   ]
  },
  {
   "cell_type": "code",
   "execution_count": 304,
   "metadata": {},
   "outputs": [],
   "source": [
    "anim = animation.FuncAnimation(fig, animate, init_func=init,frames=len(a.index), interval=170, blit=False)"
   ]
  },
  {
   "cell_type": "code",
   "execution_count": 305,
   "metadata": {},
   "outputs": [],
   "source": [
    "# equivalent to rcParams['animation.html'] = 'html5'\n",
    "rc('animation', html='html5')"
   ]
  },
  {
   "cell_type": "code",
   "execution_count": null,
   "metadata": {},
   "outputs": [],
   "source": [
    "anim"
   ]
  },
  {
   "cell_type": "code",
   "execution_count": null,
   "metadata": {},
   "outputs": [],
   "source": []
  },
  {
   "cell_type": "code",
   "execution_count": null,
   "metadata": {},
   "outputs": [],
   "source": []
  }
 ],
 "metadata": {
  "kernelspec": {
   "display_name": "Python [conda env:root] *",
   "language": "python",
   "name": "conda-root-py"
  },
  "language_info": {
   "codemirror_mode": {
    "name": "ipython",
    "version": 3
   },
   "file_extension": ".py",
   "mimetype": "text/x-python",
   "name": "python",
   "nbconvert_exporter": "python",
   "pygments_lexer": "ipython3",
   "version": "3.8.5"
  }
 },
 "nbformat": 4,
 "nbformat_minor": 4
}
