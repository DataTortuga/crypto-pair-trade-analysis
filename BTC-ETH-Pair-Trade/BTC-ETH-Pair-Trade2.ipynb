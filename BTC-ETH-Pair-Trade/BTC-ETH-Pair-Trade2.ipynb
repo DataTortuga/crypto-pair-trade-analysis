{
 "cells": [
  {
   "cell_type": "code",
   "execution_count": 1086,
   "metadata": {},
   "outputs": [],
   "source": [
    "# Import data science essentials\n",
    "import pandas as pd\n",
    "import numpy as np\n",
    "from datetime import datetime,timedelta\n",
    "\n",
    "# Import plotting essentials\n",
    "import matplotlib.pyplot as plt\n",
    "import seaborn as sns\n",
    "from matplotlib import animation, rc\n",
    "from IPython.display import HTML\n",
    "\n",
    "%matplotlib inline\n",
    "\n",
    "import copy\n",
    "from numpy import matlib\n"
   ]
  },
  {
   "cell_type": "code",
   "execution_count": 1087,
   "metadata": {},
   "outputs": [],
   "source": [
    "btc_file = 'coin_Bitcoin.csv'\n",
    "eth_file = 'coin_Ethereum.csv'"
   ]
  },
  {
   "cell_type": "code",
   "execution_count": 1088,
   "metadata": {},
   "outputs": [],
   "source": [
    "btc_df = pd.read_csv(btc_file,index_col='Date',parse_dates=True)\n",
    "eth_df = pd.read_csv(eth_file,index_col='Date',parse_dates=True)"
   ]
  },
  {
   "cell_type": "code",
   "execution_count": 1089,
   "metadata": {},
   "outputs": [],
   "source": [
    "last_date = btc_df.index.max()\n",
    "year = last_date - timedelta(days=359)\n",
    "\n",
    "end_date = f\"{last_date.year}-{last_date.month}-{last_date.day}\"\n",
    "start_date = f\"{year.year}-{year.month}-{year.day}\""
   ]
  },
  {
   "cell_type": "code",
   "execution_count": 1090,
   "metadata": {},
   "outputs": [],
   "source": [
    "a = btc_df[start_date:end_date]\n",
    "b = eth_df[start_date:end_date]"
   ]
  },
  {
   "cell_type": "code",
   "execution_count": 1091,
   "metadata": {},
   "outputs": [],
   "source": [
    "# # First set up the figure, the axis, and the plot element we want to animate\n",
    "# fig = plt.figure(dpi=200)\n",
    "\n",
    "# # Set up x-axis moving window\n",
    "# moving_window = 100\n",
    "# x_last = a.index.min()+timedelta(days=moving_window)\n",
    "# x_first = a.index.min()\n",
    "\n",
    "# # Update plot with starting background axis and labels\n",
    "# ax = plt.axes(xlim=(x_first,x_last),ylim=(0,70000))\n",
    "# line, = ax.plot([], [], lw=1,label='BTC PRICE')\n",
    "# line.axes.tick_params(axis='x', labelrotation = 45)\n",
    "# plt.legend()"
   ]
  },
  {
   "cell_type": "code",
   "execution_count": 1092,
   "metadata": {},
   "outputs": [],
   "source": [
    "# # initialization function: plot the background of each frame\n",
    "# def init():\n",
    "#     line.set_data([], [])\n",
    "#     return line,"
   ]
  },
  {
   "cell_type": "code",
   "execution_count": 1093,
   "metadata": {},
   "outputs": [],
   "source": [
    "# moving_window = 100\n",
    "# x_last = a.index.min()+timedelta(days=moving_window)\n",
    "# x_first = a.index.min()\n",
    "# dt = timedelta(days=1)\n",
    "\n",
    "# def animate(i):\n",
    "#     global x_last\n",
    "#     global x_first\n",
    "#     global dt\n",
    "    \n",
    "#     x = a.index[:i]\n",
    "#     y = a['Close'][:i]\n",
    "#     line.set_data(x, y)\n",
    "    \n",
    "#     if a.index[i] >= x_last-dt:\n",
    "#         x_last += dt \n",
    "#         x_first += dt\n",
    "#         line.axes.set_xlim(x_first,x_last)\n",
    "        \n",
    "#     return line,"
   ]
  },
  {
   "cell_type": "code",
   "execution_count": 1094,
   "metadata": {},
   "outputs": [],
   "source": [
    "# anim = animation.FuncAnimation(fig, animate, init_func=init,frames=len(a.index), interval=100, blit=False)"
   ]
  },
  {
   "cell_type": "code",
   "execution_count": 1095,
   "metadata": {},
   "outputs": [],
   "source": [
    "# # equivalent to rcParams['animation.html'] = 'html5'\n",
    "# rc('animation', html='html5')"
   ]
  },
  {
   "cell_type": "code",
   "execution_count": 1096,
   "metadata": {},
   "outputs": [],
   "source": [
    "# anim"
   ]
  },
  {
   "cell_type": "code",
   "execution_count": 1097,
   "metadata": {},
   "outputs": [],
   "source": [
    "log_close_btc = a['Close']"
   ]
  },
  {
   "cell_type": "code",
   "execution_count": 1098,
   "metadata": {},
   "outputs": [],
   "source": [
    "#log_close_btc = np.log(log_close_btc)"
   ]
  },
  {
   "cell_type": "code",
   "execution_count": 1099,
   "metadata": {},
   "outputs": [
    {
     "data": {
      "text/plain": [
       "Date\n",
       "2020-07-12 23:59:59     9276.499850\n",
       "2020-07-13 23:59:59     9243.613855\n",
       "2020-07-14 23:59:59     9243.213416\n",
       "2020-07-15 23:59:59     9192.837368\n",
       "2020-07-16 23:59:59     9132.227863\n",
       "                           ...     \n",
       "2021-07-02 23:59:59    33897.048590\n",
       "2021-07-03 23:59:59    34668.548402\n",
       "2021-07-04 23:59:59    35287.779766\n",
       "2021-07-05 23:59:59    33746.002456\n",
       "2021-07-06 23:59:59    34235.193451\n",
       "Name: Close, Length: 360, dtype: float64"
      ]
     },
     "execution_count": 1099,
     "metadata": {},
     "output_type": "execute_result"
    }
   ],
   "source": [
    "log_close_btc"
   ]
  },
  {
   "cell_type": "code",
   "execution_count": 1100,
   "metadata": {},
   "outputs": [
    {
     "data": {
      "text/plain": [
       "Date\n",
       "2020-07-12 23:59:59     242.131695\n",
       "2020-07-13 23:59:59     239.604585\n",
       "2020-07-14 23:59:59     240.211494\n",
       "2020-07-15 23:59:59     238.423527\n",
       "2020-07-16 23:59:59     233.640883\n",
       "                          ...     \n",
       "2021-07-02 23:59:59    2150.040364\n",
       "2021-07-03 23:59:59    2226.114282\n",
       "2021-07-04 23:59:59    2321.724112\n",
       "2021-07-05 23:59:59    2198.582464\n",
       "2021-07-06 23:59:59    2324.679449\n",
       "Name: Close, Length: 360, dtype: float64"
      ]
     },
     "execution_count": 1100,
     "metadata": {},
     "output_type": "execute_result"
    }
   ],
   "source": [
    "log_close_eth = b['Close']\n",
    "#log_close_eth = np.log(log_close_eth)\n",
    "log_close_eth"
   ]
  },
  {
   "cell_type": "code",
   "execution_count": 1101,
   "metadata": {},
   "outputs": [
    {
     "data": {
      "image/png": "[encoded data removed]",
      "text/plain": [
       "<Figure size 432x288 with 1 Axes>"
      ]
     },
     "metadata": {
      "needs_background": "light"
     },
     "output_type": "display_data"
    }
   ],
   "source": [
    "plt.plot(log_close_btc.index,log_close_btc, label=\"BTC Price\")\n",
    "plt.plot(log_close_eth.index,log_close_eth, label=\"ETH Price\")\n",
    "plt.legend()\n",
    "plt.show()"
   ]
  },
  {
   "cell_type": "code",
   "execution_count": 1102,
   "metadata": {},
   "outputs": [],
   "source": [
    "spread_btc = log_close_btc\n",
    "spread_eth = log_close_eth\n",
    "# for i in range(1,len(log_close_btc)): \n",
    "#     spread_btc.append(log_close_btc[i]-log_close_btc[i-1])\n",
    "#     spread_eth.append(log_close_eth[i]-log_close_eth[i-1])"
   ]
  },
  {
   "cell_type": "code",
   "execution_count": 1103,
   "metadata": {},
   "outputs": [
    {
     "data": {
      "image/png": "[encoded data removed]",
      "text/plain": [
       "<Figure size 432x288 with 1 Axes>"
      ]
     },
     "metadata": {
      "needs_background": "light"
     },
     "output_type": "display_data"
    }
   ],
   "source": [
    "plt.plot(log_close_btc.index[:],spread_btc, label='Daily BTC Closing Price')\n",
    "plt.legend()\n",
    "plt.show()"
   ]
  },
  {
   "cell_type": "code",
   "execution_count": 1104,
   "metadata": {},
   "outputs": [
    {
     "data": {
      "text/plain": [
       "<matplotlib.legend.Legend at 0x7f396c540160>"
      ]
     },
     "execution_count": 1104,
     "metadata": {},
     "output_type": "execute_result"
    },
    {
     "data": {
      "image/png": "[encoded data removed]",
      "text/plain": [
       "<Figure size 432x288 with 1 Axes>"
      ]
     },
     "metadata": {
      "needs_background": "light"
     },
     "output_type": "display_data"
    }
   ],
   "source": [
    "plt.plot(log_close_eth.index[:],spread_eth, label='Daily ETH Closing Price')\n",
    "plt.legend()"
   ]
  },
  {
   "cell_type": "code",
   "execution_count": 1105,
   "metadata": {},
   "outputs": [],
   "source": [
    "import statsmodels.api as sm\n",
    "import statsmodels.tsa.stattools as ts\n",
    "\n",
    "def cointegration_test(Y, X):\n",
    "    # Step 1: regress on variable on the other \n",
    "    ols_result = sm.OLS(Y, X).fit() \n",
    "    # Step 2: obtain the residual (ols_resuld.resid)\n",
    "    # Step 3: apply Augmented Dickey-Fuller test to see whether \n",
    "    #        the residual is unit root    \n",
    "    return ts.adfuller(ols_result.resid)"
   ]
  },
  {
   "cell_type": "code",
   "execution_count": 1106,
   "metadata": {},
   "outputs": [
    {
     "data": {
      "text/plain": [
       "(-1.4232607015479724,\n",
       " 0.5710752511894234,\n",
       " 14,\n",
       " 345,\n",
       " {'1%': -3.4494474563375737,\n",
       "  '5%': -2.8699542285903887,\n",
       "  '10%': -2.5712527305187987},\n",
       " 6028.6262229551085)"
      ]
     },
     "execution_count": 1106,
     "metadata": {},
     "output_type": "execute_result"
    }
   ],
   "source": [
    "cointegration_test(spread_btc,spread_eth)"
   ]
  },
  {
   "cell_type": "code",
   "execution_count": 1107,
   "metadata": {},
   "outputs": [
    {
     "data": {
      "text/html": [
       "<table class=\"simpletable\">\n",
       "<caption>OLS Regression Results</caption>\n",
       "<tr>\n",
       "  <th>Dep. Variable:</th>          <td>Close</td>      <th>  R-squared (uncentered):</th>      <td>   0.894</td> \n",
       "</tr>\n",
       "<tr>\n",
       "  <th>Model:</th>                   <td>OLS</td>       <th>  Adj. R-squared (uncentered):</th> <td>   0.893</td> \n",
       "</tr>\n",
       "<tr>\n",
       "  <th>Method:</th>             <td>Least Squares</td>  <th>  F-statistic:       </th>          <td>   3018.</td> \n",
       "</tr>\n",
       "<tr>\n",
       "  <th>Date:</th>             <td>Fri, 08 Oct 2021</td> <th>  Prob (F-statistic):</th>          <td>8.16e-177</td>\n",
       "</tr>\n",
       "<tr>\n",
       "  <th>Time:</th>                 <td>19:43:17</td>     <th>  Log-Likelihood:    </th>          <td> -3875.4</td> \n",
       "</tr>\n",
       "<tr>\n",
       "  <th>No. Observations:</th>      <td>   360</td>      <th>  AIC:               </th>          <td>   7753.</td> \n",
       "</tr>\n",
       "<tr>\n",
       "  <th>Df Residuals:</th>          <td>   359</td>      <th>  BIC:               </th>          <td>   7757.</td> \n",
       "</tr>\n",
       "<tr>\n",
       "  <th>Df Model:</th>              <td>     1</td>      <th>                     </th>              <td> </td>    \n",
       "</tr>\n",
       "<tr>\n",
       "  <th>Covariance Type:</th>      <td>nonrobust</td>    <th>                     </th>              <td> </td>    \n",
       "</tr>\n",
       "</table>\n",
       "<table class=\"simpletable\">\n",
       "<tr>\n",
       "    <td></td>       <th>coef</th>     <th>std err</th>      <th>t</th>      <th>P>|t|</th>  <th>[0.025</th>    <th>0.975]</th>  \n",
       "</tr>\n",
       "<tr>\n",
       "  <th>Close</th> <td>   20.6809</td> <td>    0.376</td> <td>   54.938</td> <td> 0.000</td> <td>   19.941</td> <td>   21.421</td>\n",
       "</tr>\n",
       "</table>\n",
       "<table class=\"simpletable\">\n",
       "<tr>\n",
       "  <th>Omnibus:</th>       <td>54.634</td> <th>  Durbin-Watson:     </th> <td>   0.021</td>\n",
       "</tr>\n",
       "<tr>\n",
       "  <th>Prob(Omnibus):</th> <td> 0.000</td> <th>  Jarque-Bera (JB):  </th> <td>  76.640</td>\n",
       "</tr>\n",
       "<tr>\n",
       "  <th>Skew:</th>          <td>-1.018</td> <th>  Prob(JB):          </th> <td>2.28e-17</td>\n",
       "</tr>\n",
       "<tr>\n",
       "  <th>Kurtosis:</th>      <td> 3.982</td> <th>  Cond. No.          </th> <td>    1.00</td>\n",
       "</tr>\n",
       "</table><br/><br/>Notes:<br/>[1] R² is computed without centering (uncentered) since the model does not contain a constant.<br/>[2] Standard Errors assume that the covariance matrix of the errors is correctly specified."
      ],
      "text/plain": [
       "<class 'statsmodels.iolib.summary.Summary'>\n",
       "\"\"\"\n",
       "                                 OLS Regression Results                                \n",
       "=======================================================================================\n",
       "Dep. Variable:                  Close   R-squared (uncentered):                   0.894\n",
       "Model:                            OLS   Adj. R-squared (uncentered):              0.893\n",
       "Method:                 Least Squares   F-statistic:                              3018.\n",
       "Date:                Fri, 08 Oct 2021   Prob (F-statistic):                   8.16e-177\n",
       "Time:                        19:43:17   Log-Likelihood:                         -3875.4\n",
       "No. Observations:                 360   AIC:                                      7753.\n",
       "Df Residuals:                     359   BIC:                                      7757.\n",
       "Df Model:                           1                                                  \n",
       "Covariance Type:            nonrobust                                                  \n",
       "==============================================================================\n",
       "                 coef    std err          t      P>|t|      [0.025      0.975]\n",
       "------------------------------------------------------------------------------\n",
       "Close         20.6809      0.376     54.938      0.000      19.941      21.421\n",
       "==============================================================================\n",
       "Omnibus:                       54.634   Durbin-Watson:                   0.021\n",
       "Prob(Omnibus):                  0.000   Jarque-Bera (JB):               76.640\n",
       "Skew:                          -1.018   Prob(JB):                     2.28e-17\n",
       "Kurtosis:                       3.982   Cond. No.                         1.00\n",
       "==============================================================================\n",
       "\n",
       "Notes:\n",
       "[1] R² is computed without centering (uncentered) since the model does not contain a constant.\n",
       "[2] Standard Errors assume that the covariance matrix of the errors is correctly specified.\n",
       "\"\"\""
      ]
     },
     "execution_count": 1107,
     "metadata": {},
     "output_type": "execute_result"
    }
   ],
   "source": [
    "ols_result=sm.OLS(spread_btc, spread_eth).fit()\n",
    "ols_result.summary()"
   ]
  },
  {
   "cell_type": "code",
   "execution_count": 1108,
   "metadata": {},
   "outputs": [
    {
     "data": {
      "image/png": "[encoded data removed]",
      "text/plain": [
       "<Figure size 432x288 with 1 Axes>"
      ]
     },
     "metadata": {
      "needs_background": "light"
     },
     "output_type": "display_data"
    },
    {
     "name": "stdout",
     "output_type": "stream",
     "text": [
      "Close    20.680907\n",
      "dtype: float64\n"
     ]
    }
   ],
   "source": [
    "# This analysis is not used in the model it was just some prelimenary analysis\n",
    "plt.scatter(spread_eth,spread_btc,label='BTC/ETH Price Spread')\n",
    "plt.plot(spread_eth, ols_result.predict(),label='Linear Regression of Spread',c=\"red\")\n",
    "plt.legend()\n",
    "plt.xlabel('ETH')\n",
    "plt.ylabel('BTC')\n",
    "plt.show()\n",
    "\n",
    "print(ols_result.params)"
   ]
  },
  {
   "cell_type": "code",
   "execution_count": 1109,
   "metadata": {},
   "outputs": [],
   "source": [
    "lookback=10\n",
    "hedgeRatio=np.empty(len(spread_btc))\n",
    "hedgeRatio[:]=np.nan\n",
    "\n",
    "for t in range(lookback,len(hedgeRatio),1):\n",
    "    \n",
    "    regression_result=sm.OLS(spread_btc[t-lookback:t],spread_eth[t-lookback:t]).fit()\n",
    "    hedgeRatio[t]=regression_result.params[0]"
   ]
  },
  {
   "cell_type": "code",
   "execution_count": 1110,
   "metadata": {},
   "outputs": [],
   "source": [
    "# Testing how sm.OLS module works\n",
    "# lookback=20\n",
    "# t=lookback\n",
    "# regression_result=sm.OLS(spread_btc[t-lookback:t],spread_eth[t-lookback:t]).fit()\n",
    "# regression_result.params"
   ]
  },
  {
   "cell_type": "code",
   "execution_count": 1111,
   "metadata": {},
   "outputs": [
    {
     "data": {
      "text/html": [
       "<div>\n",
       "<style scoped>\n",
       "    .dataframe tbody tr th:only-of-type {\n",
       "        vertical-align: middle;\n",
       "    }\n",
       "\n",
       "    .dataframe tbody tr th {\n",
       "        vertical-align: top;\n",
       "    }\n",
       "\n",
       "    .dataframe thead th {\n",
       "        text-align: right;\n",
       "    }\n",
       "</style>\n",
       "<table border=\"1\" class=\"dataframe\">\n",
       "  <thead>\n",
       "    <tr style=\"text-align: right;\">\n",
       "      <th></th>\n",
       "      <th>Hedge Ratio</th>\n",
       "      <th>Ones</th>\n",
       "    </tr>\n",
       "  </thead>\n",
       "  <tbody>\n",
       "    <tr>\n",
       "      <th>0</th>\n",
       "      <td>38.671522</td>\n",
       "      <td>1.0</td>\n",
       "    </tr>\n",
       "    <tr>\n",
       "      <th>1</th>\n",
       "      <td>38.671522</td>\n",
       "      <td>1.0</td>\n",
       "    </tr>\n",
       "    <tr>\n",
       "      <th>2</th>\n",
       "      <td>38.671522</td>\n",
       "      <td>1.0</td>\n",
       "    </tr>\n",
       "    <tr>\n",
       "      <th>3</th>\n",
       "      <td>38.671522</td>\n",
       "      <td>1.0</td>\n",
       "    </tr>\n",
       "    <tr>\n",
       "      <th>4</th>\n",
       "      <td>38.671522</td>\n",
       "      <td>1.0</td>\n",
       "    </tr>\n",
       "    <tr>\n",
       "      <th>...</th>\n",
       "      <td>...</td>\n",
       "      <td>...</td>\n",
       "    </tr>\n",
       "    <tr>\n",
       "      <th>355</th>\n",
       "      <td>16.781654</td>\n",
       "      <td>1.0</td>\n",
       "    </tr>\n",
       "    <tr>\n",
       "      <th>356</th>\n",
       "      <td>16.622315</td>\n",
       "      <td>1.0</td>\n",
       "    </tr>\n",
       "    <tr>\n",
       "      <th>357</th>\n",
       "      <td>16.470419</td>\n",
       "      <td>1.0</td>\n",
       "    </tr>\n",
       "    <tr>\n",
       "      <th>358</th>\n",
       "      <td>16.229099</td>\n",
       "      <td>1.0</td>\n",
       "    </tr>\n",
       "    <tr>\n",
       "      <th>359</th>\n",
       "      <td>16.048285</td>\n",
       "      <td>1.0</td>\n",
       "    </tr>\n",
       "  </tbody>\n",
       "</table>\n",
       "<p>360 rows × 2 columns</p>\n",
       "</div>"
      ],
      "text/plain": [
       "     Hedge Ratio  Ones\n",
       "0      38.671522   1.0\n",
       "1      38.671522   1.0\n",
       "2      38.671522   1.0\n",
       "3      38.671522   1.0\n",
       "4      38.671522   1.0\n",
       "..           ...   ...\n",
       "355    16.781654   1.0\n",
       "356    16.622315   1.0\n",
       "357    16.470419   1.0\n",
       "358    16.229099   1.0\n",
       "359    16.048285   1.0\n",
       "\n",
       "[360 rows x 2 columns]"
      ]
     },
     "execution_count": 1111,
     "metadata": {},
     "output_type": "execute_result"
    }
   ],
   "source": [
    "# y2 = [independent_spread dependent_spread]\n",
    "y2 = np.array([spread_eth, spread_btc]).transpose()\n",
    "\n",
    "# introducing massive amounts of look-ahead bias :)\n",
    "hedgeRatio_df = pd.DataFrame(hedgeRatio,columns=['Hedge Ratio'])\n",
    "hedgeRatio_df.fillna(method='bfill',inplace=True)\n",
    "hedgeRatio_df['Ones'] = np.ones(len(spread_btc))\n",
    "#hedgeRatio = copy.deepcopy(hedgeRatio_df.to_numpy())\n",
    "hedgeRatio1 = copy.deepcopy(hedgeRatio_df)\n",
    "\n",
    "hedgeRatio1"
   ]
  },
  {
   "cell_type": "code",
   "execution_count": 1112,
   "metadata": {},
   "outputs": [
    {
     "data": {
      "text/html": [
       "<div>\n",
       "<style scoped>\n",
       "    .dataframe tbody tr th:only-of-type {\n",
       "        vertical-align: middle;\n",
       "    }\n",
       "\n",
       "    .dataframe tbody tr th {\n",
       "        vertical-align: top;\n",
       "    }\n",
       "\n",
       "    .dataframe thead th {\n",
       "        text-align: right;\n",
       "    }\n",
       "</style>\n",
       "<table border=\"1\" class=\"dataframe\">\n",
       "  <thead>\n",
       "    <tr style=\"text-align: right;\">\n",
       "      <th></th>\n",
       "      <th>Hedge Ratio</th>\n",
       "      <th>Ones</th>\n",
       "    </tr>\n",
       "  </thead>\n",
       "  <tbody>\n",
       "    <tr>\n",
       "      <th>0</th>\n",
       "      <td>-38.671522</td>\n",
       "      <td>1.0</td>\n",
       "    </tr>\n",
       "    <tr>\n",
       "      <th>1</th>\n",
       "      <td>-38.671522</td>\n",
       "      <td>1.0</td>\n",
       "    </tr>\n",
       "    <tr>\n",
       "      <th>2</th>\n",
       "      <td>-38.671522</td>\n",
       "      <td>1.0</td>\n",
       "    </tr>\n",
       "    <tr>\n",
       "      <th>3</th>\n",
       "      <td>-38.671522</td>\n",
       "      <td>1.0</td>\n",
       "    </tr>\n",
       "    <tr>\n",
       "      <th>4</th>\n",
       "      <td>-38.671522</td>\n",
       "      <td>1.0</td>\n",
       "    </tr>\n",
       "    <tr>\n",
       "      <th>...</th>\n",
       "      <td>...</td>\n",
       "      <td>...</td>\n",
       "    </tr>\n",
       "    <tr>\n",
       "      <th>355</th>\n",
       "      <td>-16.781654</td>\n",
       "      <td>1.0</td>\n",
       "    </tr>\n",
       "    <tr>\n",
       "      <th>356</th>\n",
       "      <td>-16.622315</td>\n",
       "      <td>1.0</td>\n",
       "    </tr>\n",
       "    <tr>\n",
       "      <th>357</th>\n",
       "      <td>-16.470419</td>\n",
       "      <td>1.0</td>\n",
       "    </tr>\n",
       "    <tr>\n",
       "      <th>358</th>\n",
       "      <td>-16.229099</td>\n",
       "      <td>1.0</td>\n",
       "    </tr>\n",
       "    <tr>\n",
       "      <th>359</th>\n",
       "      <td>-16.048285</td>\n",
       "      <td>1.0</td>\n",
       "    </tr>\n",
       "  </tbody>\n",
       "</table>\n",
       "<p>360 rows × 2 columns</p>\n",
       "</div>"
      ],
      "text/plain": [
       "     Hedge Ratio  Ones\n",
       "0     -38.671522   1.0\n",
       "1     -38.671522   1.0\n",
       "2     -38.671522   1.0\n",
       "3     -38.671522   1.0\n",
       "4     -38.671522   1.0\n",
       "..           ...   ...\n",
       "355   -16.781654   1.0\n",
       "356   -16.622315   1.0\n",
       "357   -16.470419   1.0\n",
       "358   -16.229099   1.0\n",
       "359   -16.048285   1.0\n",
       "\n",
       "[360 rows x 2 columns]"
      ]
     },
     "execution_count": 1112,
     "metadata": {},
     "output_type": "execute_result"
    }
   ],
   "source": [
    "hedgeRatio1['Hedge Ratio'] = hedgeRatio1['Hedge Ratio']*-1.0\n",
    "hedgeRatio1"
   ]
  },
  {
   "cell_type": "code",
   "execution_count": 1113,
   "metadata": {},
   "outputs": [
    {
     "data": {
      "text/plain": [
       "0       -87.101295\n",
       "1       -22.260086\n",
       "2       -46.130632\n",
       "3       -27.363267\n",
       "4        96.979348\n",
       "          ...     \n",
       "355   -2184.185733\n",
       "356   -2334.623454\n",
       "357   -2951.990101\n",
       "358   -1935.010600\n",
       "359   -3071.923752\n",
       "Length: 360, dtype: float64"
      ]
     },
     "execution_count": 1113,
     "metadata": {},
     "output_type": "execute_result"
    }
   ],
   "source": [
    "#yport = np.sum(np.multiply(np.array([-hedgeRatio, np.ones(len(spread_btc))]).transpose(),y2),axis=1)\n",
    "yport = np.sum(np.multiply(hedgeRatio1,y2),axis=1)\n",
    "yport"
   ]
  },
  {
   "cell_type": "code",
   "execution_count": 1114,
   "metadata": {},
   "outputs": [
    {
     "data": {
      "image/png": "[encoded data removed]",
      "text/plain": [
       "<Figure size 432x288 with 1 Axes>"
      ]
     },
     "metadata": {
      "needs_background": "light"
     },
     "output_type": "display_data"
    }
   ],
   "source": [
    "plt.plot(log_close_btc.index,yport)\n",
    "plt.xlabel('Days')\n",
    "plt.ylabel('Price of the Unit Portfolio')\n",
    "plt.show()"
   ]
  },
  {
   "cell_type": "code",
   "execution_count": 1115,
   "metadata": {},
   "outputs": [],
   "source": [
    "# l = log_close_btc.reset_index().index.to_numpy()\n",
    "# # l = [range(len(log_close_btc))]\n",
    "# cointegration_test(yport,l)"
   ]
  },
  {
   "cell_type": "code",
   "execution_count": 1116,
   "metadata": {},
   "outputs": [
    {
     "data": {
      "text/html": [
       "<div>\n",
       "<style scoped>\n",
       "    .dataframe tbody tr th:only-of-type {\n",
       "        vertical-align: middle;\n",
       "    }\n",
       "\n",
       "    .dataframe tbody tr th {\n",
       "        vertical-align: top;\n",
       "    }\n",
       "\n",
       "    .dataframe thead th {\n",
       "        text-align: right;\n",
       "    }\n",
       "</style>\n",
       "<table border=\"1\" class=\"dataframe\">\n",
       "  <thead>\n",
       "    <tr style=\"text-align: right;\">\n",
       "      <th></th>\n",
       "      <th>Spread</th>\n",
       "    </tr>\n",
       "    <tr>\n",
       "      <th>Date</th>\n",
       "      <th></th>\n",
       "    </tr>\n",
       "  </thead>\n",
       "  <tbody>\n",
       "    <tr>\n",
       "      <th>2020-07-12 23:59:59</th>\n",
       "      <td>NaN</td>\n",
       "    </tr>\n",
       "    <tr>\n",
       "      <th>2020-07-13 23:59:59</th>\n",
       "      <td>NaN</td>\n",
       "    </tr>\n",
       "    <tr>\n",
       "      <th>2020-07-14 23:59:59</th>\n",
       "      <td>NaN</td>\n",
       "    </tr>\n",
       "    <tr>\n",
       "      <th>2020-07-15 23:59:59</th>\n",
       "      <td>NaN</td>\n",
       "    </tr>\n",
       "    <tr>\n",
       "      <th>2020-07-16 23:59:59</th>\n",
       "      <td>NaN</td>\n",
       "    </tr>\n",
       "    <tr>\n",
       "      <th>...</th>\n",
       "      <td>...</td>\n",
       "    </tr>\n",
       "    <tr>\n",
       "      <th>2021-07-02 23:59:59</th>\n",
       "      <td>NaN</td>\n",
       "    </tr>\n",
       "    <tr>\n",
       "      <th>2021-07-03 23:59:59</th>\n",
       "      <td>NaN</td>\n",
       "    </tr>\n",
       "    <tr>\n",
       "      <th>2021-07-04 23:59:59</th>\n",
       "      <td>NaN</td>\n",
       "    </tr>\n",
       "    <tr>\n",
       "      <th>2021-07-05 23:59:59</th>\n",
       "      <td>NaN</td>\n",
       "    </tr>\n",
       "    <tr>\n",
       "      <th>2021-07-06 23:59:59</th>\n",
       "      <td>NaN</td>\n",
       "    </tr>\n",
       "  </tbody>\n",
       "</table>\n",
       "<p>360 rows × 1 columns</p>\n",
       "</div>"
      ],
      "text/plain": [
       "                     Spread\n",
       "Date                       \n",
       "2020-07-12 23:59:59     NaN\n",
       "2020-07-13 23:59:59     NaN\n",
       "2020-07-14 23:59:59     NaN\n",
       "2020-07-15 23:59:59     NaN\n",
       "2020-07-16 23:59:59     NaN\n",
       "...                     ...\n",
       "2021-07-02 23:59:59     NaN\n",
       "2021-07-03 23:59:59     NaN\n",
       "2021-07-04 23:59:59     NaN\n",
       "2021-07-05 23:59:59     NaN\n",
       "2021-07-06 23:59:59     NaN\n",
       "\n",
       "[360 rows x 1 columns]"
      ]
     },
     "execution_count": 1116,
     "metadata": {},
     "output_type": "execute_result"
    }
   ],
   "source": [
    "yport_df = pd.DataFrame(yport,index=log_close_btc.index,columns=['Spread'])\n",
    "\n",
    "yport_df"
   ]
  },
  {
   "cell_type": "code",
   "execution_count": 1117,
   "metadata": {},
   "outputs": [],
   "source": [
    "# # Bollinger band strategy was a total failure! Using Linear Mean Reversion Instead\n",
    "# entryZscore=-1\n",
    "# exitZscore=1\n",
    "\n",
    "# # Calculates zScore for every day in the spread\n",
    "# zScore=(yport_df-yport_df.rolling(window=lookback).mean())/yport_df.rolling(window=lookback).std()\n",
    "\n",
    "# # Sets longsEntry array to zScore value if below entry threshold\n",
    "# longsEntry=zScore < entryZscore\n",
    "\n",
    "# # Sets longsExit array to zScore value if above exit threshold\n",
    "# longsExit=zScore >= exitZscore\n",
    "\n",
    "# # Set shortsEntry array to zScore value if above entry threshold\n",
    "# shortsEntry=zScore > -entryZscore\n",
    "\n",
    "# # Set shortsEntry array to zScore value if below exit threshold\n",
    "# shortsExit=zScore <= -exitZscore\n",
    "\n",
    "# # Setting Up simulated long trades\n",
    "# numUnitsLong=np.empty(len(yport_df))\n",
    "# numUnitsLong[:]=np.nan\n",
    "\n",
    "# # Setting up simulated short trades\n",
    "# numUnitsShort=np.empty(len(yport_df))\n",
    "# numUnitsShort[:]=np.nan\n",
    "\n",
    "# # Convert np long arrays to dfs\n",
    "# numUnitsLong[0]=0\n",
    "# numUnitsLong = pd.DataFrame(numUnitsLong)\n",
    "# # Convert np short arrays to dfs\n",
    "# numUnitsShort[0]=0\n",
    "# numUnitsShort = pd.DataFrame(numUnitsShort)\n",
    "\n",
    "# numUnitsLong[0].iloc[longsEntry.reset_index().loc[longsEntry.reset_index()['Spread']==True].index]=1\n",
    "# numUnitsLong[0].iloc[longsExit.reset_index().loc[longsExit.reset_index()['Spread']==True].index]=0\n",
    "\n",
    "# numUnitsLong.fillna(method='ffill',inplace=True)\n",
    "\n",
    "\n",
    "# numUnitsShort[0].iloc[shortsEntry.reset_index().loc[shortsEntry.reset_index()['Spread']==True].index]=-1\n",
    "# numUnitsShort[0].iloc[shortsExit.reset_index().loc[shortsExit.reset_index()['Spread']==True].index]=0\n",
    "\n",
    "# numUnitsShort.fillna(method='ffill',inplace=True)\n",
    "\n",
    "# numUnits= numUnitsLong + numUnitsShort\n",
    "# numUnits.fillna(0)\n",
    "# numUnits\n",
    "\n"
   ]
  },
  {
   "cell_type": "code",
   "execution_count": 1118,
   "metadata": {},
   "outputs": [],
   "source": [
    "zScore=-(yport_df-yport_df.rolling(window=lookback).mean())/yport_df.rolling(window=lookback).std()\n",
    "\n",
    "zScore.fillna(method='bfill',inplace=True)"
   ]
  },
  {
   "cell_type": "code",
   "execution_count": 1119,
   "metadata": {},
   "outputs": [
    {
     "data": {
      "text/plain": [
       "array([[  242.13169523,  9276.49985018],\n",
       "       [  239.60458484,  9243.61385509],\n",
       "       [  240.21149418,  9243.21341642],\n",
       "       [  238.42352695,  9192.83736784],\n",
       "       [  233.64088301,  9132.22786293],\n",
       "       [  232.77308561,  9151.39223963],\n",
       "       [  235.48380522,  9159.03990531],\n",
       "       [  238.48752372,  9185.81691242],\n",
       "       [  236.15316771,  9164.2313647 ],\n",
       "       [  245.01672849,  9374.88752808],\n",
       "       [  262.19065629,  9525.36344997],\n",
       "       [  274.68904905,  9581.07201141],\n",
       "       [  279.21540948,  9536.89268563],\n",
       "       [  304.0567612 ,  9677.11349729],\n",
       "       [  309.64360929,  9905.16724705],\n",
       "       [  321.51408818, 10990.8733998 ],\n",
       "       [  316.65725234, 10912.8230505 ],\n",
       "       [  318.19088442, 11100.4681253 ],\n",
       "       [  334.58662928, 11111.2142899 ],\n",
       "       [  345.55464931, 11323.4664207 ],\n",
       "       [  385.19971932, 11759.5927707 ],\n",
       "       [  370.67171149, 11053.613901  ],\n",
       "       [  386.29517344, 11246.3487749 ],\n",
       "       [  389.87548514, 11205.8929179 ],\n",
       "       [  401.59058634, 11747.0228312 ],\n",
       "       [  394.96195715, 11779.7732574 ],\n",
       "       [  379.51285504, 11601.4727146 ],\n",
       "       [  393.98737606, 11754.0458135 ],\n",
       "       [  391.12045494, 11675.7393433 ],\n",
       "       [  395.88756951, 11878.1113253 ],\n",
       "       [  380.38406829, 11410.5256775 ],\n",
       "       [  391.02416206, 11584.9345762 ],\n",
       "       [  428.74178228, 11784.1373895 ],\n",
       "       [  437.39783952, 11768.8706193 ],\n",
       "       [  433.35492649, 11865.69857   ],\n",
       "       [  433.78660998, 11892.8040631 ],\n",
       "       [  429.53125233, 12254.4019083 ],\n",
       "       [  423.66931565, 11991.2332456 ],\n",
       "       [  406.46378682, 11758.2835921 ],\n",
       "       [  416.43979488, 11878.3716211 ],\n",
       "       [  389.12635031, 11592.4890449 ],\n",
       "       [  395.83514122, 11681.8255623 ],\n",
       "       [  391.38449984, 11664.8479948 ],\n",
       "       [  408.14420715, 11774.5958414 ],\n",
       "       [  384.00104304, 11366.1350817 ],\n",
       "       [  386.46612421, 11488.3634896 ],\n",
       "       [  382.63263212, 11323.3970324 ],\n",
       "       [  395.87466609, 11542.4997333 ],\n",
       "       [  399.92147104, 11506.8653177 ],\n",
       "       [  428.3957176 , 11711.506161  ],\n",
       "       [  435.07974527, 11680.8204905 ],\n",
       "       [  477.05192415, 11970.4787405 ],\n",
       "       [  440.04050689, 11414.0337325 ],\n",
       "       [  385.67192837, 10245.296686  ],\n",
       "       [  388.24114042, 10511.8138807 ],\n",
       "       [  335.26007908, 10169.567221  ],\n",
       "       [  353.36226568, 10280.3517032 ],\n",
       "       [  352.67349475, 10369.5637386 ],\n",
       "       [  337.6021119 , 10131.5166457 ],\n",
       "       [  351.11001653, 10242.3477803 ],\n",
       "       [  368.10190707, 10363.1390401 ],\n",
       "       [  374.69558876, 10400.9146854 ],\n",
       "       [  387.18310961, 10442.1706031 ],\n",
       "       [  365.57000505, 10323.7557975 ],\n",
       "       [  377.26887507, 10680.8374328 ],\n",
       "       [  364.83921823, 10796.9509861 ],\n",
       "       [  365.81229132, 10974.9048915 ],\n",
       "       [  389.01921969, 10948.9899152 ],\n",
       "       [  384.36454198, 10944.5858045 ],\n",
       "       [  385.5443836 , 11094.3462761 ],\n",
       "       [  371.05282619, 10938.2712894 ],\n",
       "       [  341.78607406, 10462.2596185 ],\n",
       "       [  344.50316232, 10538.4603213 ],\n",
       "       [  321.11631734, 10246.18649281],\n",
       "       [  349.35558514, 10760.06625677],\n",
       "       [  352.18324474, 10692.71721234],\n",
       "       [  355.48809037, 10750.72357903],\n",
       "       [  357.43849724, 10775.26937624],\n",
       "       [  355.15942359, 10709.65218175],\n",
       "       [  359.75739393, 10844.64098118],\n",
       "       [  359.93787376, 10784.49157795],\n",
       "       [  353.20591482, 10619.45190766],\n",
       "       [  346.2389138 , 10575.97504191],\n",
       "       [  346.52208572, 10549.32889962],\n",
       "       [  352.5790067 , 10669.58254327],\n",
       "       [  353.95677154, 10793.33942751],\n",
       "       [  340.81584538, 10604.40588882],\n",
       "       [  341.80866898, 10668.96895539],\n",
       "       [  350.76615934, 10915.68573098],\n",
       "       [  365.59047723, 11064.45759247],\n",
       "       [  370.96758819, 11296.3614282 ],\n",
       "       [  375.14204941, 11384.1819535 ],\n",
       "       [  387.7312655 , 11555.3628878 ],\n",
       "       [  381.19076126, 11425.8994007 ],\n",
       "       [  379.48403791, 11429.50688675],\n",
       "       [  377.44184574, 11495.34965037],\n",
       "       [  366.22901728, 11322.12268618],\n",
       "       [  368.85594038, 11358.10156733],\n",
       "       [  378.21369795, 11483.35971184],\n",
       "       [  379.93560927, 11742.03715033],\n",
       "       [  369.13691491, 11916.33514058],\n",
       "       [  392.18996695, 12823.68918938],\n",
       "       [  413.77299269, 12965.89129043],\n",
       "       [  409.76669164, 12931.53902256],\n",
       "       [  412.45761883, 13108.06261161],\n",
       "       [  406.2177613 , 13031.17431056],\n",
       "       [  393.88831313, 13075.24769656],\n",
       "       [  403.99704505, 13654.21844012],\n",
       "       [  388.65077072, 13271.28536861],\n",
       "       [  386.7301135 , 13437.8832414 ],\n",
       "       [  382.81999199, 13546.52226938],\n",
       "       [  386.59033529, 13780.99470249],\n",
       "       [  396.35818693, 13737.10982864],\n",
       "       [  383.15673256, 13550.4893841 ],\n",
       "       [  387.60217328, 13950.30084729],\n",
       "       [  402.14199843, 14133.70715301],\n",
       "       [  414.06733818, 15579.84846029],\n",
       "       [  454.71929029, 15565.88058083],\n",
       "       [  435.71313513, 14833.7541075 ],\n",
       "       [  453.55478553, 15479.56703842],\n",
       "       [  444.16305707, 15332.31559743],\n",
       "       [  449.67962112, 15290.90268148],\n",
       "       [  462.96052774, 15701.33973237],\n",
       "       [  461.00527114, 16276.34394919],\n",
       "       [  474.62642092, 16317.80819009],\n",
       "       [  460.14983674, 16068.13870685],\n",
       "       [  447.55909533, 15955.58743887],\n",
       "       [  459.94031258, 16716.11132377],\n",
       "       [  480.36008258, 17645.40576746],\n",
       "       [  479.48406975, 17804.00563217],\n",
       "       [  471.63041968, 17817.09024754],\n",
       "       [  509.74457334, 18621.31436938],\n",
       "       [  549.48662086, 18642.23276593],\n",
       "       [  558.06809523, 18370.00252365],\n",
       "       [  608.45402857, 18364.12159134],\n",
       "       [  603.89774601, 19107.46444977],\n",
       "       [  570.68661621, 18732.1207774 ],\n",
       "       [  518.80117389, 17150.62357809],\n",
       "       [  517.49368769, 17108.40172774],\n",
       "       [  538.22980058, 17717.4150112 ],\n",
       "       [  575.75804789, 18177.48341979],\n",
       "       [  614.84252202, 19625.83502949],\n",
       "       [  587.32418713, 18802.99829969],\n",
       "       [  598.35234223, 19201.09115697],\n",
       "       [  616.70875486, 19445.39847988],\n",
       "       [  569.35419749, 18699.76561337],\n",
       "       [  596.59547474, 19154.231131  ],\n",
       "       [  601.90899244, 19345.12095871],\n",
       "       [  591.84337934, 19191.63128698],\n",
       "       [  554.82775708, 18321.14491611],\n",
       "       [  573.47911163, 18553.91537685],\n",
       "       [  559.67850106, 18264.99210672],\n",
       "       [  545.79734103, 18058.90334725],\n",
       "       [  568.56731778, 18803.65687045],\n",
       "       [  589.6632225 , 19142.3825335 ],\n",
       "       [  586.01115197, 19246.64434137],\n",
       "       [  589.35560245, 19417.07603342],\n",
       "       [  636.18184867, 21310.59813054],\n",
       "       [  642.86896702, 22805.16149213],\n",
       "       [  654.81192689, 23137.96056165],\n",
       "       [  659.29792646, 23869.83196434],\n",
       "       [  638.29084637, 23477.29519711],\n",
       "       [  609.81787165, 22803.0814087 ],\n",
       "       [  634.85419947, 23783.02850288],\n",
       "       [  583.71459689, 23241.34486501],\n",
       "       [  611.60718693, 23735.94972763],\n",
       "       [  626.41070163, 24664.79027412],\n",
       "       [  635.83583086, 26437.0375091 ],\n",
       "       [  682.6423591 , 26272.29456706],\n",
       "       [  730.39736483, 27084.80788628],\n",
       "       [  731.52011874, 27362.4365573 ],\n",
       "       [  751.61897194, 28840.95341968],\n",
       "       [  737.80339769, 29001.71982218],\n",
       "       [  730.36756913, 29374.15188907],\n",
       "       [  774.53496804, 32127.26793922],\n",
       "       [  975.50767291, 32782.02446581],\n",
       "       [ 1040.23304833, 31971.91352155],\n",
       "       [ 1100.00609944, 33992.42934365],\n",
       "       [ 1207.11223389, 36824.36441009],\n",
       "       [ 1225.67813488, 39371.04235311],\n",
       "       [ 1224.19714489, 40797.61071993],\n",
       "       [ 1281.07729102, 40254.54649816],\n",
       "       [ 1262.24666381, 38356.43950662],\n",
       "       [ 1090.14537315, 35566.65594049],\n",
       "       [ 1043.43458391, 33922.9605815 ],\n",
       "       [ 1130.73940242, 37316.35939997],\n",
       "       [ 1218.45297846, 39187.32812109],\n",
       "       [ 1171.83461074, 36825.36585131],\n",
       "       [ 1233.53756838, 36178.13890106],\n",
       "       [ 1230.17227237, 35791.27792129],\n",
       "       [ 1257.27950247, 36630.07568284],\n",
       "       [ 1377.29584154, 36069.80639361],\n",
       "       [ 1382.27409433, 35547.7508855 ],\n",
       "       [ 1121.57091957, 30825.69850603],\n",
       "       [ 1236.51220729, 33005.76356216],\n",
       "       [ 1230.99063605, 32067.64288212],\n",
       "       [ 1391.60940757, 32289.37808687],\n",
       "       [ 1324.414778  , 32366.39304887],\n",
       "       [ 1357.0581398 , 32569.84955679],\n",
       "       [ 1253.18713315, 30432.54707881],\n",
       "       [ 1332.49224455, 33466.09635821],\n",
       "       [ 1382.52281244, 34316.38765032],\n",
       "       [ 1376.11553895, 34269.52154165],\n",
       "       [ 1314.9862286 , 33114.35774753],\n",
       "       [ 1369.04046855, 33537.1768196 ],\n",
       "       [ 1515.19376962, 35510.28903716],\n",
       "       [ 1660.909542  , 37472.09010368],\n",
       "       [ 1594.76269414, 36926.06446515],\n",
       "       [ 1718.65087218, 38144.30686267],\n",
       "       [ 1677.84684697, 39266.01073494],\n",
       "       [ 1614.22782334, 38903.44147971],\n",
       "       [ 1746.61684904, 46196.46371944],\n",
       "       [ 1768.03501655, 46481.10423596],\n",
       "       [ 1744.24343196, 44918.18449192],\n",
       "       [ 1783.79795026, 47909.33119483],\n",
       "       [ 1843.53258814, 47504.85118326],\n",
       "       [ 1814.10985253, 47105.51747252],\n",
       "       [ 1805.08404652, 48717.2902111 ],\n",
       "       [ 1779.79097807, 47945.05683234],\n",
       "       [ 1781.06747722, 49199.87134362],\n",
       "       [ 1848.4582725 , 52149.00753587],\n",
       "       [ 1937.44925643, 51679.79669449],\n",
       "       [ 1960.16474353, 55888.13368221],\n",
       "       [ 1919.5340028 , 56099.52051348],\n",
       "       [ 1935.60106022, 57539.9436679 ],\n",
       "       [ 1781.99297558, 54207.31906543],\n",
       "       [ 1570.20392529, 48824.42686909],\n",
       "       [ 1626.57570543, 49705.33331637],\n",
       "       [ 1475.70373513, 47093.85301914],\n",
       "       [ 1446.0336503 , 46339.76008289],\n",
       "       [ 1459.97312093, 46188.45127539],\n",
       "       [ 1416.0489059 , 45137.77046805],\n",
       "       [ 1564.70764686, 49631.24137077],\n",
       "       [ 1492.60881427, 48378.98805435],\n",
       "       [ 1575.85312451, 50538.24341445],\n",
       "       [ 1541.91428551, 48561.1661539 ],\n",
       "       [ 1533.27497556, 48927.3045548 ],\n",
       "       [ 1654.74151694, 48912.38173056],\n",
       "       [ 1723.15379607, 51206.69295308],\n",
       "       [ 1834.72788609, 52246.52230995],\n",
       "       [ 1868.04878133, 54824.11781138],\n",
       "       [ 1799.16622355, 56008.54940114],\n",
       "       [ 1826.19498661, 57805.12301924],\n",
       "       [ 1772.10247833, 57332.08896391],\n",
       "       [ 1924.68543997, 61243.08476552],\n",
       "       [ 1854.56437805, 59302.31697742],\n",
       "       [ 1791.70230241, 55907.20022619],\n",
       "       [ 1806.9717631 , 56804.90123161],\n",
       "       [ 1823.44937973, 58870.89333325],\n",
       "       [ 1782.85512445, 57858.92070527],\n",
       "       [ 1817.62409241, 58346.65297359],\n",
       "       [ 1812.63460132, 58313.64260857],\n",
       "       [ 1788.21700883, 57523.42098673],\n",
       "       [ 1691.33401831, 54529.14561107],\n",
       "       [ 1678.65013849, 54738.94493032],\n",
       "       [ 1593.4134567 , 52774.26369049],\n",
       "       [ 1595.359192  , 51704.1619252 ],\n",
       "       [ 1702.84201957, 55137.31372578],\n",
       "       [ 1716.49461243, 55973.51084173],\n",
       "       [ 1691.35596451, 55950.7457745 ],\n",
       "       [ 1819.68496282, 57750.19987147],\n",
       "       [ 1846.03369779, 58917.6930451 ],\n",
       "       [ 1918.36206064, 58918.83271375],\n",
       "       [ 1977.27688844, 59095.80797806],\n",
       "       [ 2143.22563228, 59384.3133586 ],\n",
       "       [ 2028.4224386 , 57603.88917376],\n",
       "       [ 2093.12285275, 58758.55629127],\n",
       "       [ 2107.88709669, 59057.87896588],\n",
       "       [ 2118.37895913, 58192.35868406],\n",
       "       [ 1971.07725542, 56048.93781271],\n",
       "       [ 2088.57365088, 58323.95357975],\n",
       "       [ 2072.10887563, 58245.00300108],\n",
       "       [ 2135.9422007 , 59793.23541009],\n",
       "       [ 2157.65703708, 60204.96491379],\n",
       "       [ 2139.35319598, 59893.45188869],\n",
       "       [ 2299.18778599, 63503.45793019],\n",
       "       [ 2435.10501889, 63109.69593464],\n",
       "       [ 2519.11610012, 63314.01084504],\n",
       "       [ 2431.94650379, 61572.78960116],\n",
       "       [ 2344.89498097, 60683.82123331],\n",
       "       [ 2237.13702776, 56216.18500243],\n",
       "       [ 2166.1887655 , 55724.26709807],\n",
       "       [ 2330.21093719, 56473.0322808 ],\n",
       "       [ 2364.75182249, 53906.08804584],\n",
       "       [ 2403.53524134, 51762.27205146],\n",
       "       [ 2363.58620073, 51093.65070999],\n",
       "       [ 2211.62580802, 50050.86821565],\n",
       "       [ 2316.05965928, 49004.25326318],\n",
       "       [ 2534.4817987 , 54021.75478737],\n",
       "       [ 2662.86524559, 55033.11801332],\n",
       "       [ 2746.38005291, 54824.70489507],\n",
       "       [ 2756.87699416, 53555.10849133],\n",
       "       [ 2773.20713193, 57750.17734563],\n",
       "       [ 2945.89270802, 57828.05063222],\n",
       "       [ 2952.05605494, 56631.07741255],\n",
       "       [ 3431.08613981, 57200.29122289],\n",
       "       [ 3253.62947001, 53333.53775274],\n",
       "       [ 3522.78318978, 57424.00594813],\n",
       "       [ 3490.88045894, 56396.51416376],\n",
       "       [ 3484.72889546, 57356.40187692],\n",
       "       [ 3902.64773368, 58803.77580865],\n",
       "       [ 3928.84470583, 58232.3161419 ],\n",
       "       [ 3952.29387234, 55859.79754454],\n",
       "       [ 4168.70104865, 56704.5730585 ],\n",
       "       [ 3785.84860304, 49150.53387514],\n",
       "       [ 3715.14846639, 49716.19160254],\n",
       "       [ 4079.05745857, 49880.53342038],\n",
       "       [ 3638.12204192, 46760.18656071],\n",
       "       [ 3587.50620646, 46456.05847448],\n",
       "       [ 3282.39779583, 43537.51138918],\n",
       "       [ 3380.0700925 , 42909.40092517],\n",
       "       [ 2460.67920048, 37002.4404659 ],\n",
       "       [ 2784.29415835, 40782.73826245],\n",
       "       [ 2430.62138539, 37304.69067136],\n",
       "       [ 2295.70565666, 37536.63111241],\n",
       "       [ 2109.57985208, 34770.58362292],\n",
       "       [ 2643.5909947 , 38705.97863723],\n",
       "       [ 2706.62898111, 38402.22385137],\n",
       "       [ 2888.69868104, 39294.19738214],\n",
       "       [ 2736.48858585, 38436.96853505],\n",
       "       [ 2419.90629016, 35697.60639024],\n",
       "       [ 2279.51417661, 34616.06800347],\n",
       "       [ 2390.305302  , 35678.12920411],\n",
       "       [ 2714.94534372, 37332.85368874],\n",
       "       [ 2633.51841662, 36684.92451667],\n",
       "       [ 2706.12497095, 37575.17957566],\n",
       "       [ 2855.12653096, 39208.76599489],\n",
       "       [ 2688.19499931, 36894.40532994],\n",
       "       [ 2630.57680077, 35551.95872588],\n",
       "       [ 2715.09266119, 35862.37772747],\n",
       "       [ 2590.26330395, 33560.70783776],\n",
       "       [ 2517.43862412, 33472.63174808],\n",
       "       [ 2608.26698585, 37345.12148619],\n",
       "       [ 2471.51867508, 36702.59937466],\n",
       "       [ 2353.76868661, 37334.39952553],\n",
       "       [ 2372.48445358, 35552.51714847],\n",
       "       [ 2508.39163246, 39097.86089667],\n",
       "       [ 2537.8911584 , 40218.47785943],\n",
       "       [ 2610.93672749, 40406.26898673],\n",
       "       [ 2367.6634963 , 38347.06322666],\n",
       "       [ 2372.00202359, 38053.50417253],\n",
       "       [ 2231.73314201, 35787.24478177],\n",
       "       [ 2178.49913873, 35615.86927002],\n",
       "       [ 2246.36453295, 35698.29644336],\n",
       "       [ 1888.44749682, 31676.69373254],\n",
       "       [ 1874.95002135, 32505.6598245 ],\n",
       "       [ 1989.73627073, 33723.0289781 ],\n",
       "       [ 1988.45627579, 34662.43589358],\n",
       "       [ 1813.21723241, 31637.78005541],\n",
       "       [ 1829.23921725, 32186.27767093],\n",
       "       [ 1978.89466209, 34649.64458753],\n",
       "       [ 2079.65743586, 34434.33531428],\n",
       "       [ 2160.76835244, 35867.77773549],\n",
       "       [ 2274.54771264, 35040.83724889],\n",
       "       [ 2113.60552345, 33572.11765253],\n",
       "       [ 2150.04036404, 33897.04858963],\n",
       "       [ 2226.11428196, 34668.54840182],\n",
       "       [ 2321.72411157, 35287.77976616],\n",
       "       [ 2198.58246387, 33746.00245614],\n",
       "       [ 2324.67944917, 34235.19345116]])"
      ]
     },
     "execution_count": 1119,
     "metadata": {},
     "output_type": "execute_result"
    }
   ],
   "source": [
    "import copy\n",
    "y3 = copy.deepcopy(y2)\n",
    "y3\n"
   ]
  },
  {
   "cell_type": "code",
   "execution_count": 1120,
   "metadata": {},
   "outputs": [],
   "source": [
    "#positions = np.multiply(matlib.repmat(numUnits,1,2),np.array([hedgeRatio, -np.ones(hedgeRatio.size)]).transpose(),y2)"
   ]
  },
  {
   "cell_type": "code",
   "execution_count": 1121,
   "metadata": {},
   "outputs": [],
   "source": [
    "#numUnits"
   ]
  },
  {
   "cell_type": "code",
   "execution_count": 1122,
   "metadata": {},
   "outputs": [
    {
     "name": "stderr",
     "output_type": "stream",
     "text": [
      "<ipython-input-1122-47d9f264f27a>:2: VisibleDeprecationWarning: Creating an ndarray from ragged nested sequences (which is a list-or-tuple of lists-or-tuples-or ndarrays with different lengths or shapes) is deprecated. If you meant to do this, you must specify 'dtype=object' when creating the ndarray\n",
      "  positions = np.multiply(matlib.repmat(zScore,1,2),np.array([hedgeRatio_df, -np.ones(hedgeRatio.size)]).transpose(),y2)\n"
     ]
    },
    {
     "ename": "ValueError",
     "evalue": "could not broadcast input array from shape (360,2) into shape (360)",
     "output_type": "error",
     "traceback": [
      "\u001b[0;31m---------------------------------------------------------------------------\u001b[0m",
      "\u001b[0;31mValueError\u001b[0m                                Traceback (most recent call last)",
      "\u001b[0;32m<ipython-input-1122-47d9f264f27a>\u001b[0m in \u001b[0;36m<module>\u001b[0;34m\u001b[0m\n\u001b[1;32m      1\u001b[0m \u001b[0;31m# Positions array for Linear Mean Reversion Strategy\u001b[0m\u001b[0;34m\u001b[0m\u001b[0;34m\u001b[0m\u001b[0;34m\u001b[0m\u001b[0m\n\u001b[0;32m----> 2\u001b[0;31m \u001b[0mpositions\u001b[0m \u001b[0;34m=\u001b[0m \u001b[0mnp\u001b[0m\u001b[0;34m.\u001b[0m\u001b[0mmultiply\u001b[0m\u001b[0;34m(\u001b[0m\u001b[0mmatlib\u001b[0m\u001b[0;34m.\u001b[0m\u001b[0mrepmat\u001b[0m\u001b[0;34m(\u001b[0m\u001b[0mzScore\u001b[0m\u001b[0;34m,\u001b[0m\u001b[0;36m1\u001b[0m\u001b[0;34m,\u001b[0m\u001b[0;36m2\u001b[0m\u001b[0;34m)\u001b[0m\u001b[0;34m,\u001b[0m\u001b[0mnp\u001b[0m\u001b[0;34m.\u001b[0m\u001b[0marray\u001b[0m\u001b[0;34m(\u001b[0m\u001b[0;34m[\u001b[0m\u001b[0mhedgeRatio_df\u001b[0m\u001b[0;34m,\u001b[0m \u001b[0;34m-\u001b[0m\u001b[0mnp\u001b[0m\u001b[0;34m.\u001b[0m\u001b[0mones\u001b[0m\u001b[0;34m(\u001b[0m\u001b[0mhedgeRatio\u001b[0m\u001b[0;34m.\u001b[0m\u001b[0msize\u001b[0m\u001b[0;34m)\u001b[0m\u001b[0;34m]\u001b[0m\u001b[0;34m)\u001b[0m\u001b[0;34m.\u001b[0m\u001b[0mtranspose\u001b[0m\u001b[0;34m(\u001b[0m\u001b[0;34m)\u001b[0m\u001b[0;34m,\u001b[0m\u001b[0my2\u001b[0m\u001b[0;34m)\u001b[0m\u001b[0;34m\u001b[0m\u001b[0;34m\u001b[0m\u001b[0m\n\u001b[0m",
      "\u001b[0;31mValueError\u001b[0m: could not broadcast input array from shape (360,2) into shape (360)"
     ]
    }
   ],
   "source": [
    "# Positions array for Linear Mean Reversion Strategy\n",
    "positions = np.multiply(matlib.repmat(zScore,1,2),np.array([hedgeRatio_df, -np.ones(hedgeRatio.size)]).transpose(),y2)"
   ]
  },
  {
   "cell_type": "code",
   "execution_count": null,
   "metadata": {},
   "outputs": [],
   "source": [
    "zScore.head(10)"
   ]
  },
  {
   "cell_type": "code",
   "execution_count": null,
   "metadata": {},
   "outputs": [],
   "source": [
    "pnl_arr = []\n",
    "    \n",
    "for i in range(y3.shape[0]-1):\n",
    "        \n",
    "    independent_return = positions[i+1,0]*(y3[i,0]-y3[i+1,0])/y3[i+1,0]\n",
    "    dependent_return = positions[i+1,1]*(y3[i,1]-y3[i+1,1])/y3[i+1,1]\n",
    "    daily_pnl = independent_return+dependent_return\n",
    "        \n",
    "    pnl_arr.append(daily_pnl)\n"
   ]
  },
  {
   "cell_type": "code",
   "execution_count": null,
   "metadata": {},
   "outputs": [],
   "source": [
    "ret_arr = []\n",
    "    \n",
    "for i in range(y3.shape[0]-1):\n",
    "    \n",
    "    if (abs(positions[i+1,0])+abs(positions[i+1,1])) == 0:\n",
    "        ret = 0\n",
    "    else:\n",
    "        ret = pnl_arr[i]/(abs(positions[i+1,0])+abs(positions[i+1,1]))\n",
    "        \n",
    "    ret_arr.append(ret)"
   ]
  },
  {
   "cell_type": "code",
   "execution_count": null,
   "metadata": {},
   "outputs": [],
   "source": [
    "plt.plot(np.arange(len(ret_arr)),ret_arr)\n",
    "plt.xlabel('Days')\n",
    "plt.ylabel('Dialy Returns')\n",
    "plt.show()"
   ]
  },
  {
   "cell_type": "code",
   "execution_count": null,
   "metadata": {},
   "outputs": [],
   "source": [
    "c = [1]*len(ret_arr)\n",
    "c = np.array(c)\n",
    "ret_arr = np.array(ret_arr)\n",
    "ret_arr1 = ret_arr+c\n",
    "cumulative_ret = ret_arr1.cumprod()"
   ]
  },
  {
   "cell_type": "code",
   "execution_count": null,
   "metadata": {},
   "outputs": [],
   "source": [
    "array1 = cumulative_ret\n",
    "\n",
    "nan_array = np.isnan(array1)\n",
    "not_nan_array = ~ nan_array\n",
    "array2 = array1[not_nan_array]"
   ]
  },
  {
   "cell_type": "code",
   "execution_count": null,
   "metadata": {},
   "outputs": [],
   "source": [
    "stop=100\n",
    "plt.plot(np.arange(len(array2)),array2)\n",
    "plt.xlabel('Days')\n",
    "plt.ylabel('Cumulative Returns')"
   ]
  },
  {
   "cell_type": "code",
   "execution_count": null,
   "metadata": {},
   "outputs": [],
   "source": [
    "ret_arr1"
   ]
  },
  {
   "cell_type": "code",
   "execution_count": null,
   "metadata": {},
   "outputs": [],
   "source": [
    "ret_arr"
   ]
  },
  {
   "cell_type": "code",
   "execution_count": null,
   "metadata": {},
   "outputs": [],
   "source": [
    "array2"
   ]
  },
  {
   "cell_type": "code",
   "execution_count": null,
   "metadata": {},
   "outputs": [],
   "source": [
    "np.arange(len(array2[:20]))"
   ]
  },
  {
   "cell_type": "code",
   "execution_count": null,
   "metadata": {},
   "outputs": [],
   "source": []
  }
 ],
 "metadata": {
  "kernelspec": {
   "display_name": "Python [conda env:root] *",
   "language": "python",
   "name": "conda-root-py"
  },
  "language_info": {
   "codemirror_mode": {
    "name": "ipython",
    "version": 3
   },
   "file_extension": ".py",
   "mimetype": "text/x-python",
   "name": "python",
   "nbconvert_exporter": "python",
   "pygments_lexer": "ipython3",
   "version": "3.8.5"
  }
 },
 "nbformat": 4,
 "nbformat_minor": 4
}
